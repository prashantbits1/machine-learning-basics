{
 "cells": [
  {
   "cell_type": "markdown",
   "metadata": {},
   "source": [
    "## Clustering\n",
    "\n",
    "*(Memorization is not learning!)*\n"
   ]
  },
  {
   "cell_type": "markdown",
   "metadata": {},
   "source": [
    "#### Prerequisites\n",
    "***\n",
    "- Introductory machine learning knowledge\n",
    "- Data preparation and feature engineering knowledge\n",
    "- Basic knowledge on data distributions, such as Gaussian and power law distributions.\n",
    "***"
   ]
  },
  {
   "cell_type": "markdown",
   "metadata": {},
   "source": [
    "### What is Clustering?\n",
    "***\n",
    "Clustering is an unsupervised machine learning algorithm that discovers data points into a number of groups such that data points in the same groups are more similar to other data points in the same group than those in other groups.\n",
    "Let's understand this with an example.   \n",
    "1- When we try to understand or learn something about music, one way is that we might look for meaningful groups/collections. We might organize music by genere, while others might organize music by decade. How we choose to group items help us to understand more about individual pieces of music. \n",
    "\n",
    "2- Customer segmentation which is a process of classifying similar customers into the same segment. Clustering algorithm helps us to better understand customers, in term of both static demographics and dynamic behaviours. Customer with comparable characteristics often interact with business similarly, thus business can benefit from this technique by creating tailored marketing strategy for each segment. In *tailored marketing*, sellers decide when and how they will contact customers and which products will showcased on a specific day. \n",
    "\n",
    "In ML also, we often group examples as a first step to understand a subject(data sets). Grouping unlabled examples is called clustering.\n",
    "Since the examples are unlabled, clustering relies on unsupervised ML. If the examples are labled, then clustering becomes classification.\n",
    "***"
   ]
  },
  {
   "cell_type": "markdown",
   "metadata": {},
   "source": [
    "### Type of Clustering\n",
    "***\n",
    "Clustering can be divided into 2 subgroups:\n",
    "\n",
    "<b>1-Hard Clustering:</b> Data point either belongs to a cluster completely or not. For example, in customer segmentation, customer can be put into one group out of 8 groups.\n",
    "\n",
    "<b>2-Soft Clustering:</b> Here instead keeping each data point into a separate cluster, a probability or likelihood of that data point to be in those clusters is assigned. For example, in customer segmentation, each customer is assigned a probability to be in either of 8 clusters of the retail shop.\n",
    "***\n",
    "\n",
    "### Types of clustering algorithms\n",
    "***\n",
    "- <b>Connectivity models:</b> This model follow 2 approaches, in first approach it start with classifying all data points into separate clusters and then start aggregating them as the distance decreases. In second approach, all data points are classified as a single cluster and then partitioned as the distance increases. Here the choice of distance function is subjective. Models come under this algorithm are very easy to interpret but lacks scability of handling big datasets. Hierarchical clustering algorithm and it's variant comes under this.\n",
    "\n",
    "- <b>Centroid models:</b> This is a iterative clustering algorithm in which the similarity of data points is derived by the closeness of a data point to the centroid of clusters. This algo run iteratively to find the local optima. K-means clustering comes under this.\n",
    "- <b>Distribution models:</b> This clustering algorithm is based on the notion of how probable is that all data points in the cluster belong to the same distribution(Normal, Gaussian distribution). This algo often suffer from overfitting. A popular example of this algo is Expectation-maximization algorithm which uses multivariate normal distributions.\n",
    "- <b>Density models:</b> This algorithm search the data space for area of varied density of data points in the data space. It isolates various different density regions and assign the data points within these regions in the same cluster. DBSCAN and OPTICS are come under this.\n",
    "***"
   ]
  },
  {
   "cell_type": "markdown",
   "metadata": {},
   "source": [
    "### Clustering Workflow\n",
    "***\n",
    "These are the following steps for clustering:\n",
    "- 1: Prepare data\n",
    "- 2: Create similarity metric\n",
    "- 3: Run clustering algorithm\n",
    "- 4: Interpret results and adjust clustering.(hyperparameter tunning)\n",
    "\n",
    "\n",
    "- **Prepare Data:** \n",
    "     - Feature data must transform, normalize and scale.\n",
    "     - Ensure the prepared data must accurately able to calculate the similarity between examples.\n",
    "     \n",
    "- **Create Similarity Metrics:**\n",
    "     - Before to use clustering algorithm, it is important to know how similar pairs of examples are.\n",
    "     - Quantify the similarity between examples by creating a similarity metrics.\n",
    "     - Creating a similarity metric requires to understand data carefully and how to derive      similarity from feature.\n",
    "     \n",
    "- **Run Clustering Algorithm:**\n",
    "     - Clustering algorithm uses the similarity metric to cluster the data.\n",
    "     \n",
    "- **Interpret Results and Adjust Clustering:**\n",
    "     - This process is iterative and exploratory because clustering lacks *truth* that can verify the output.\n",
    "***"
   ]
  },
  {
   "cell_type": "markdown",
   "metadata": {},
   "source": [
    "## - Prepare Data\n",
    "In clustering, we calculate the similarity between two examples by combining all the feature data for those examples into a numeric value. Combining feature data requires that the feature data have the same scale. Here are the few techniques of ***data scaling***:\n",
    "\n",
    "<img src=\"img-doc/scale.jpg\" width=300/>"
   ]
  },
  {
   "cell_type": "markdown",
   "metadata": {},
   "source": [
    "***Why should we use feature scaling?***\n",
    "ML algorithms works on number and doesn't know what the number represents.A price of 10 rupees and weight of 10 grams represents completely two different things, which is okay to understand by human brain, but for a model as a feature, it treats both as a same.\n",
    "Suppose if we have two features which is weight and price:\n",
    "\n",
    "   \n",
    "| Fruit   | Weight  | Price  |\n",
    "|---------|---------|--------|\n",
    "| Orange  | 15      | 1      |\n",
    "| Apple   | 18      | 3      |\n",
    "| Banana  | 12      | 2      |\n",
    "| Grapes  | 10      | 5      |\n",
    "       \n",
    "       \n",
    " Here the weight and price are not meaningful comparison and in ML algorithm since Weight > Price, thus Weight is more important feature than Price. So these more significant numbers starts playing a more decisive role, thus feature scaling is needed to bring to give upfront importance to every feature.\n",
    " \n",
    " Another reason for *feature scaling* is for the machine learning algorithms like *linear regression, logistic regression, neaural network etc* that uses ***gradient decent*** as an optimization technique. ![gradient-decent](img-doc/gradient-decent.jpg) \n",
    " \n",
    "- The feature value *X* in this formula will affect the step size of the gradient decent.\n",
    "- The difference in range of features(weight, price) will cause different step sizes for each feature, so ensure that the gradient decent moves smoothly towards the minima and also the steps for gradient decent are updated at the same rate for all features, feature scaling is needed before the play with models.\n",
    "![Gradient-decent-scale](img-doc/gradient-scaling1.jpg)\n",
    "  &emsp;&emsp;&emsp;&emsp;&emsp;&emsp;&emsp;&emsp;&emsp;&emsp;&emsp;&emsp;&emsp;&emsp;&emsp;&emsp;&emsp;&emsp;&emsp; x1 >> x2               &emsp; &emsp; &emsp;&emsp;&emsp;&emsp;&emsp;&emsp;&emsp;&emsp;&emsp;        (0 < x1 < 1),  (0 < x2 < 1)"
   ]
  },
  {
   "cell_type": "markdown",
   "metadata": {},
   "source": [
    "- ***Normalizing Data:***\n",
    "\n",
    "Normalization is used when:\n",
    "       - Data has a Gaussian distribution.\n",
    "       - Data set lacks enough data to create quantiles.\n",
    "Normalization/Standardization is a scaling technique where the values are centered around the mean with a unit standard deviation.\n",
    "\n",
    "Here is the formula : \n",
    "![standarization](img-doc/standarization.jpg)\n"
   ]
  },
  {
   "cell_type": "code",
   "execution_count": 9,
   "metadata": {},
   "outputs": [
    {
     "name": "stdout",
     "output_type": "stream",
     "text": [
      "        WEIGHT  PRICE\n",
      "Orange      15      1\n",
      "Apple       18      3\n",
      "Banana      12      2\n",
      "Grape       10      5\n",
      "          WEIGHT     PRICE\n",
      "Orange  0.412393 -1.183216\n",
      "Apple   1.402136  0.169031\n",
      "Banana -0.577350 -0.507093\n",
      "Grape  -1.237179  1.521278\n"
     ]
    },
    {
     "data": {
      "image/png": "[encoded data removed]",
      "text/plain": [
       "<Figure size 432x288 with 1 Axes>"
      ]
     },
     "metadata": {
      "needs_background": "light"
     },
     "output_type": "display_data"
    }
   ],
   "source": [
    "import pandas as pd\n",
    "import numpy as np\n",
    "import matplotlib.pyplot as plt\n",
    "%matplotlib inline\n",
    "df = pd.DataFrame({'WEIGHT': [15, 18, 12,10],\n",
    "                   'PRICE': [1,3,2,5]},\n",
    "                   index = ['Orange','Apple','Banana','Grape'])\n",
    "print(df.head())\n",
    "\n",
    "from sklearn.preprocessing import StandardScaler\n",
    "scaler = StandardScaler()\n",
    "normalized_feature = pd.DataFrame(scaler.fit_transform(df),\n",
    "                   columns=['WEIGHT','PRICE'],\n",
    "                   index = ['Orange','Apple','Banana','Grape'])\n",
    "print(normalized_feature.head())\n",
    "\n",
    "# plot\n",
    "ax = df.plot.scatter(x='WEIGHT', y='PRICE',color=['red','green','blue','yellow'], \n",
    "                     marker = '*',s=80, label='BREFORE SCALING');\n",
    "normalized_feature.plot.scatter(x='WEIGHT', y='PRICE', color=['red','green','blue','yellow'],\n",
    "                 marker = 'o',s=60,label='AFTER SCALING', ax = ax)\n",
    "plt.axhline(0, color='red',alpha=0.2)\n",
    "plt.axvline(0, color='red',alpha=0.2);"
   ]
  },
  {
   "cell_type": "markdown",
   "metadata": {},
   "source": [
    "***Min/Max Scaler***"
   ]
  },
  {
   "cell_type": "code",
   "execution_count": 7,
   "metadata": {},
   "outputs": [
    {
     "name": "stdout",
     "output_type": "stream",
     "text": [
      "        WEIGHT  PRICE\n",
      "Orange   0.625   0.00\n",
      "Apple    1.000   0.50\n",
      "Banana   0.250   0.25\n",
      "Grape    0.000   1.00\n"
     ]
    },
    {
     "data": {
      "image/png": "[encoded data removed]",
      "text/plain": [
       "<Figure size 432x288 with 1 Axes>"
      ]
     },
     "metadata": {
      "needs_background": "light"
     },
     "output_type": "display_data"
    }
   ],
   "source": [
    "from sklearn.preprocessing import MinMaxScaler\n",
    "\n",
    "scaler = MinMaxScaler()\n",
    "scaled_feature = pd.DataFrame(scaler.fit_transform(df),\n",
    "                   columns=['WEIGHT','PRICE'],\n",
    "                   index = ['Orange','Apple','Banana','Grape'])\n",
    "print(scaled_feature.head())\n",
    "\n",
    "# plot\n",
    "ax = df.plot.scatter(x='WEIGHT', y='PRICE',color=['red','green','blue','yellow'], \n",
    "                     marker = '*',s=80, label='BREFORE SCALING');\n",
    "scaled_feature.plot.scatter(x='WEIGHT', y='PRICE', color=['red','green','blue','yellow'],\n",
    "                 marker = 'o',s=60,label='AFTER SCALING', ax = ax);\n",
    "plt.axhline(0, color='red',alpha=0.2)\n",
    "plt.axvline(0, color='red',alpha=0.2);"
   ]
  },
  {
   "cell_type": "markdown",
   "metadata": {},
   "source": [
    "#### Log Transformation:\n",
    "Power-law relationships of the form y = a*pow(x,b) \n",
    "In statistics, a power law is a functional relationship between two quantities, where a relative change in one quantity results in a proportional relative change in the other quantity(one quantity varies as a power of another)\n",
    "\n",
    "![Power-LawDistribution](img-doc/power-law.jpg)\n",
    "&emsp;&emsp;&emsp;&emsp;&emsp;&emsp;&emsp;&emsp;&emsp;&emsp;&emsp;&emsp; *power-law distribution*\n",
    "\n",
    "The *Log transform* used to make a highly skewed distribution to less skewed.Process a power-law distribution by using a log transform\n",
    "![Gaussian](img-doc/gaussian-distribution.jpg)\n",
    "&emsp;&emsp;&emsp;&emsp;&emsp;&emsp;&emsp;&emsp;&emsp;&emsp;&emsp;&emsp; *gaussian-distribution*"
   ]
  },
  {
   "cell_type": "code",
   "execution_count": 11,
   "metadata": {},
   "outputs": [
    {
     "name": "stdout",
     "output_type": "stream",
     "text": [
      "          WEIGHT     PRICE\n",
      "Orange  0.500180 -1.368084\n",
      "Apple   1.324116  0.358244\n",
      "Banana -0.504405 -0.358249\n",
      "Grape  -1.319891  1.368089\n"
     ]
    },
    {
     "data": {
      "image/png": "[encoded data removed]",
      "text/plain": [
       "<Figure size 432x288 with 1 Axes>"
      ]
     },
     "metadata": {
      "needs_background": "light"
     },
     "output_type": "display_data"
    }
   ],
   "source": [
    "from sklearn.preprocessing import PowerTransformer\n",
    "\n",
    "scaler = PowerTransformer(method='yeo-johnson')\n",
    "power_transformed_df = pd.DataFrame(scaler.fit_transform(df),\n",
    "                   columns=['WEIGHT','PRICE'],\n",
    "                   index = ['Orange','Apple','Banana','Grape'])\n",
    "print(power_transformed_df)\n",
    "\n",
    "# plot\n",
    "ax = df.plot.scatter(x='WEIGHT', y='PRICE',color=['red','green','blue','yellow'], \n",
    "                     marker = '*',s=80, label='BREFORE SCALING');\n",
    "power_transformed_df.plot.scatter(x='WEIGHT', y='PRICE', color=['red','green','blue','yellow'],\n",
    "                 marker = 'o',s=60,label='AFTER SCALING', ax = ax)\n",
    "plt.axhline(0, color='red',alpha=0.2)\n",
    "plt.axvline(0, color='red',alpha=0.2);"
   ]
  },
  {
   "cell_type": "markdown",
   "metadata": {},
   "source": [
    "#### Quantile Transformer\n",
    "- Normalization and Log transform address specific data distribution.\n",
    "- What if data doesn't confirm to a Guassian or power-law distribution. Is there any general technique which can apply to any distribution.\n",
    "\n",
    "- In quantile, we divide the data into intervals where each interval contains an equal number of examples. These interval boundaries are called ***quantiles***.\n",
    "\n",
    "These are the following steps which use to convert data into quantiles:\n",
    "- 1- Decide the number of intervals.\n",
    "- 2- Define intervals such that each interval has an equal number of examples.\n",
    "- 3- Replace each example by the index of the interval it falls in.\n",
    "- 4- Bring the indexes to same range as other feature data by scaling the index values to [0, 1]."
   ]
  },
  {
   "cell_type": "code",
   "execution_count": 15,
   "metadata": {},
   "outputs": [
    {
     "name": "stdout",
     "output_type": "stream",
     "text": [
      "          WEIGHT     PRICE\n",
      "Orange  0.666667  0.000000\n",
      "Apple   1.000000  0.666667\n",
      "Banana  0.333333  0.333333\n",
      "Grape   0.000000  1.000000\n"
     ]
    },
    {
     "data": {
      "image/png": "[encoded data removed]",
      "text/plain": [
       "<Figure size 432x288 with 1 Axes>"
      ]
     },
     "metadata": {
      "needs_background": "light"
     },
     "output_type": "display_data"
    }
   ],
   "source": [
    "from sklearn.preprocessing import QuantileTransformer\n",
    "\n",
    "scaler = QuantileTransformer(n_quantiles=4)\n",
    "qunatized_df = pd.DataFrame(scaler.fit_transform(df),\n",
    "                   columns=['WEIGHT','PRICE'],\n",
    "                   index = ['Orange','Apple','Banana','Grape'])\n",
    "print(qunatized_df)\n",
    "\n",
    "# plot\n",
    "ax = df.plot.scatter(x='WEIGHT', y='PRICE',color=['red','green','blue','yellow'], \n",
    "                     marker = '*',s=80, label='BREFORE SCALING');\n",
    "qunatized_df.plot.scatter(x='WEIGHT', y='PRICE', color=['red','green','blue','yellow'],\n",
    "                 marker = 'o',s=60,label='AFTER SCALING', ax = ax,figsize=(6,4))\n",
    "plt.axhline(0, color='red',alpha=0.2)\n",
    "plt.axvline(0, color='red',alpha=0.2);"
   ]
  },
  {
   "cell_type": "markdown",
   "metadata": {},
   "source": [
    "## - Create Similarity Metrics\n",
    "In statistics and related fields, similarity metrics or similarity function is a real-valued function that quantifies the similarity between two objects. And in data science this is a way of measuring how data samples are related or closed to each other.\n",
    "\n",
    "Cosine similarity is a commonly used similarity measure for real-valued vectors, used in information retrieval to score the similarity of documents in the vector space model.\n",
    "In ML, common kernal functions such as the RBF kernal can be viewed as similarity functions. It also used in *classification(like KNN)*, where data objects objects are labeled based on the *feature's similarity*. An another example can be for anomaly detection where we talk about dissimilar outliers compared to other data samples. "
   ]
  },
  {
   "cell_type": "markdown",
   "metadata": {},
   "source": [
    "***\n",
    "The similarity measure is usually expressed as a numeric value. To calculate the similarity between two examples(objects), it need to combine all the feature data for those two examples(objects) into a single numeric value.\n",
    "\n",
    "Let's take a example to understand this, consider a shirt data set with one feature: *shirt size*. If we ask to find how similar two shirts are by calculating the difference between their sizes. Smaller the numeric difference between sizes, greater the similarity between shirts. This similarity measure technique is called **manual similarity measure**. \n",
    "\n",
    "Let's make little complicate this, what if we want to find similarities between shirts by using size and color both. Color is categorical data, and hard to combine with numeric feature size data. When the data become complex enough, and we won't be able to create a manual measure, then switch to a **supervised similarity measure** where a supervised ML model calculates the similarity. This technique will discuss later, let's focus on manual similarity measure.\n",
    "\n",
    "Suppose the model has two features: shirt size and shirt price data. Since both features are numeric, we can combine them into a single number representing similarity as follows:\n",
    "***\n",
    "- Size(s): Shirt size probably forms a Gaussian distribution. Confirm this, then normalize the data.\n",
    "- Price (p): The data is probably a Poisson distribution. Confirm this. If you have enough data, convert the data to quantiles and scale to.\n",
    "- Combine the data by using root mean squared error (RMSE). Here, the similarity is $$\\Large\\sqrt{\\frac{s^{2}+p^{2}}{2}}$$\n",
    "\n",
    "\n",
    "Calculate the similarity for two shirts whose sizes are 8 and 11, and prices are 120 and 150. Since we don't have enough data to understand the distribution, we'll simply scale the data without normalizing or quantiles.\n",
    "\n",
    "\n",
    "- Step-1 Scale size: Assume maximum possible shirt size is 20. \n",
    "                 1st shirt size => 8/2 = 0.4\n",
    "                 2nd shirt size => 11/2 = 0.55\n",
    "- Step-2 Scale price: Assume maximum price of shirt is 150\n",
    "                 1st shirt price => 120/150 = 0.8\n",
    "                 2nd shirt price => 150/150 = 1.0\n",
    "- Step-3 Differences\n",
    "                 size = 0.55-0.4 => 0.15\n",
    "                 price = 1-0.8 => 0.2\n",
    "- Step-4 RMSE=$$\\sqrt{\\frac{0.2^{2}+0.15^{2}}{2}} = 0.17$$\n",
    "\n",
    "Intuitively, your measured similarity should increase when feature data becomes similar. Instead, your measured similarity actually decreases. Make your measured similarity follow your intuition by subtracting it from 1.\n",
    "\n",
    "Similarity = 1-0.17 => 0.83\n",
    "\n"
   ]
  },
  {
   "cell_type": "markdown",
   "metadata": {},
   "source": [
    "Now let's take an another scenario where you have categorical data, and categorical data can either be:\n",
    "\n",
    "> ***Single valued (univalent)***, such as a shirts's color (\"white\" or \"blue\" but never both)                                 \n",
    "> ***Multi-valued (multivalent)***, such as a movie's genre (can be \"romance\" and \"comedy\" simultaneously, or just \"comedy\")\n",
    "\n",
    "Similarity of ***univalent data*** can be represented either by ***'1' or '0'***.\n",
    "But similarity for ***multivalent data*** is harder to deal.\n",
    "For example, movie genres can be a challenge to work with. To handle this problem, suppose movies are assigned genres from a fixed set of genres. Calculate similarity using the ratio of common values, called Jaccard similarity.\n",
    "\n",
    "Examples:\n",
    "\n",
    "    [\"comedy\",\"romance\"] and [\"comedy\",\"romance\"] = 1\n",
    "    [\"comedy\",\"romance\"] and [\"romance\"] = ½\n",
    "    [\"comedy\",\"romance\"] and [\"romance\", \"drama\"] = ⅓\n",
    "    [\"comedy\",\"romance\"] and [\"sci-fi\",\"biographical\"] = 0\n",
    "\n",
    "Let's take some more example to understand that how to deal with categorical data.\n",
    "\t\n",
    "- Postal code: Postal codes representing areas that are close to each other should have a higher similarity. To encode the info required to calculate this similarity accurately, we can convert the postal codes into latitude/longitude. For a pair of postal codes, separately calculate the difference between their latitude and their longitude. Then add the differences to get a single numeric value.\n",
    "- Color: Let's assume we have color data as text. To find the similarity for color, convert the textual values into numeric RGB values. Now we can find the difference in red, green, and blue values for two colors, and combine the differences into a numeric value by using the Euclidean distance.\n",
    "\n",
    "In general, similarity measure must directly correspond to the actual similarity. If your metric does not, then it isn’t encoding the necessary information. In postal-code example, converted postal codes into latitude/longitude because postal codes by themselves did not encode the necessary information.\n",
    "\n",
    "We need to be carefull while processing data, before creating the *similarity measure*.\n",
    "Although the above explained examples are simple data set, but in real-world data sets are far bigger and far more complex.\n",
    "\n",
    "***NOTE:*** Remember that quantiles are a good default choice for processing numeric data.\n",
    "\n",
    "In clustering, we use different type of distance metrics, let's understand what all different types of distance metrics. "
   ]
  },
  {
   "cell_type": "markdown",
   "metadata": {},
   "source": [
    "### Metrics:\n",
    "A given distance can be a metric if it satisfy the below given conditions:\n",
    "- Non-Negative: d(p,q)>=0, for any distinct observations p and q.\n",
    "- Symmetry: d(p, q) = d(q, p) for all p and q.\n",
    "- Triangle Inequality: d(p, q) ≤ d(p, r) + d(r, q) for all p, q, r.\n",
    "- d(p, q) = 0 only if p = q.\n",
    "\n",
    " Distance measures is fundamental principle to measure the similarity between given data samples. Thus choosing **distance metrics** can be a strong influence on the performance of the classifier/clustering.\n",
    " \n",
    "Before to jump into distance metrics, let's get a little bit intution on *norm*."
   ]
  },
  {
   "cell_type": "markdown",
   "metadata": {},
   "source": [
    "### Norm\n",
    "In mathematics, norm is a function that assigns a strictly positive length/size to each vector in a vector space(real or complex vector space). It commutes with scaling, obeys a form of the **triangle inequality** and is zero only at origin.\n",
    "\n",
    "Euclidean distance of a vector from the origin is a norm called **Euclidean norm or L2 norm**.\n",
    "\n",
    "#### Commonly used Norms\n",
    "The most commonly used normed are clubbed under **p-norms** and is denoted by **$||x||_{p}$**\n",
    "   where p is +ve integer numbers.\n",
    "   \n",
    "$$\\Large||x||_p = (\\sum_{i=1}^{n}x_{i}^{p})^\\frac{1}{p}$$\n",
    "\n",
    "**Norms Types:**\n",
    "![norm-diag](img-doc/norm-diag.jpg)\n",
    "\n",
    "\n",
    "#### 1: L1-norm (Taxicab norm or Manhattan norm)\n",
    "![N1-normDiag](img-doc/N1-normDiag.jpg)\n",
    "`L1-norm ||x|| = power(3+4, 1) => 7`\n",
    "\n",
    "The Manhattan norm is also called N1-norm.\n",
    "![manhattan-norm](img-doc/manhattan-norm.jpg)\n",
    "\n",
    "\n",
    "#### 2: L2-norm(Euclidean Norm):\n",
    "![L2-normDiag](img-doc/L2-normDiag.jpg)\n",
    "This gives a distance from origin point to point *X*. Here vector space x=(x1, x2, ...xn)\n",
    "![euclidean-norm](img-doc/euclid-norm.jpg)\n",
    "\n",
    "The inner product of two vectors(x1, x2) of a *Euclidean vector space* is the *dot product* of their *coordinate vectors*. Euclidean can also be written in cooridinate-free way:\n",
    "   `||x|| = sqrt(x1.x2)`\n",
    "  \n",
    "  \n",
    "#### 3: Infinity-norm or Maximum norm\n",
    "![infinity-norm](img-doc/infinity-norm.jpg)\n",
    "***\n",
    "The infinity-norm returns maximum absolute value in the given vector.\n",
    "***Infinity norm ||x|| = max( |x1|, |x2|, ..|xn| )***\n",
    "\n",
    "Example: Find the infinity-norm of vector `x = [4, 5, -7]`\n",
    "then                `||x|| = 7`\n",
    "\n",
    "***\n",
    "#### Absolute Value Norm:\n",
    "![absolute-normDiag](img-doc/absolute-normDiag.jpg)\n",
    "absolute value norm = $||x|| = |x|$ is a norm on 1-dimensional vector spaces formed by the *real or complex numbers*.\n"
   ]
  },
  {
   "cell_type": "markdown",
   "metadata": {},
   "source": [
    "### Distance functions:\n",
    "\n",
    "#### 1- L2 norm, Euclidean distance: \n",
    "L1 norm: sum of the absolute values of each element of x vector.\n",
    " \n",
    "L2 norm: 1/2 power of the sum of squares of the elements of x vector. L2 norm is also called Euclidean norm.\n",
    "Euclidean formula: \n",
    "![eucl-formula](img-doc/eucl-formula.jpg)\n",
    "![euclid-manh-ch](img-doc/euclid-manh-ch.jpg)\n",
    " \n",
    "Euclidean distance properties as show below:\n",
    "![euclid-properties](img-doc/euclid-properties.jpg)\n",
    "\n",
    "#### 2-  L1 norm, Manhattan distance: \n",
    "This metrics(methods) is used to compute the distance between source and destination where it is nearly imposible to move in a straight line. Example- Measuring the distance between two streets in a given city.\n",
    " \n",
    "Manhattan distance in n-dimensional space:\n",
    "$ d(P,Q) = ||P-Q||_1 = \\sum_{i}^{n} |P_{i}-Q_{i}|$\n",
    "  \n",
    "![manhattan-dist](img-doc/manhattan-dist.jpg)\n",
    " \n",
    "#### 3- Canberra distance: \n",
    "It's weighted version of manhattan distance. \n",
    "$ d(P,Q) = \\sum_{i=1}^{n} \\frac{|p_{i}-q_{i}|}{|p_{i}+q_{i}|}  \\\\                                                                    =\\frac{|p_{1}-q_{1}|}{|p_{1}+q_{1}|} + \\frac{|p_{2}-q_{2}|}{|p_{2}+q_{2}|}+....+\\frac{|p_{n}-q_{n}|}{|p_{n}+q_{n}|}$\n",
    " \n",
    " \n",
    "#### 4- L-infinity norm, Chebyshev/Maximum distance: \n",
    "The chebyshev distance between two n-D space observations or vectors is equal to the maximum absolute value of the variations between the data samples coordinates.\n",
    " Chebyshev distance between two points P and Q: $d(P,Q) = max|p_{i}-q_{i}|$\n",
    " \n",
    " Also Chebyshev distance is a metrics if it satisfy these four coditions:\n",
    " \n",
    " * d(P,Q)=0 if P=Q\n",
    " * d(P,Q) = d(Q,P) if $|x_{2}-x_{1}|=|x_{1}-x_{2}|$\n",
    " * d(P,Q)< d(P,R) + d(R,Q)\n",
    " * d(P,Q) = d(P,R) + d(R,Q)\n",
    " \n",
    "Chebyshev distance is also used in chessboard where the number of moves for a queen or king is equal to distance in order to reach a neighbour square.\n",
    "![chebyshev-queen](img-doc/chebyshev-queen.jpg)\n",
    " \n",
    "#### 5- Lp norm, Minkowski distance: \n",
    "The ***Minkowski distance*** is just a generalization of above mentioned metrics(Euclidean, Manhattan, and Chebyshev).\n",
    "                                                                                                                               \n",
    "$d(P,Q) = |P_{i}-Q_{i}|_{p} = (\\sum_{i=1}^{n}|p_{i}-q_{i}|^{p})^{\\frac{1}{p}}$\n",
    " * p=1 :: Manhattan distance\n",
    " * p=2 :: Euclidean distance\n",
    " * $p \\to +\\infty$ :: Chebyshev distance\n",
    " * $p \\to 0$ :: Logical AND\n",
    " * $p \\to -\\infty$ :: Min distance\n",
    " \n",
    "#### 6- Cosine distance: \n",
    "This metrics widely used in text data mining, nlp and information retrieval systems.\n",
    "It also used to measure the similarity between given n text documents.\n",
    "$$ Cosine Distance = 1 - CosineSimilarity$$\n",
    "$$\n",
    "= (1 - cos(x,y))  \n",
    "$$\n",
    "\n",
    "$$\n",
    "= 1- {\\frac{(x.y)}{||x||.||y||}} \n",
    "$$\n",
    "\n",
    "$$\n",
    "=1 - \\frac{\\sum_{i=1}^{n}P_{i}.Q_{i}}{\\sqrt{\\sum_{i=1}^n P_{i}^2}.\\sqrt{\\sum_{i=1}^n Q_{i}^2}}\n",
    "$$                 \n",
    "                    \n",
    "Let's take a example to understand this math. Let's say we have 2 documents:\n",
    "* Document 1 : \"Hello Hello Hello Pratyush\"\n",
    "* Document 2 : \"Pratyush Pratyush Hello Hello\"\n",
    "\n",
    "Let's denote the word \"Pratyush\" as x-axis and the word \"Hello\" as y-axis. It means the document A can be represented as a vector A(3,1) and document B(2,2).\n",
    "\n",
    "Now, Cosine Similarity:                                                                                                         \n",
    " A(3,1),  B(2,2)                                                                                                               \n",
    " A(x1,y1),B(x2,y2)                                                                                                             \n",
    "$CosineDistance = 1 - \\frac{\\sum_{i=1}^{n}P_{i}.Q_{i}}{\\sqrt{\\sum_{i=1}^n P_{i}^2}.\\sqrt{\\sum_{i=1}^n Q_{i}^2}} $\n",
    "\n",
    "$\n",
    "=1 - \\frac{(x_{1}.x_{2})+(y_{1}.y_{2})}{\\sqrt{x_{1}^2+y_{1}^2}.\\sqrt{x_{2}^2 + y_{2}^2}}\n",
    "$\n",
    "\n",
    "$\n",
    "=1 - \\frac{(3.2) + (1.2)}{\\sqrt{3^2+1^2}.\\sqrt{2^2 + 2^2}}  \\\\\n",
    "=1 - \\frac{8}{\\sqrt{10}.\\sqrt{8}}  \\\\\n",
    "=1 - 0.894\n",
    "$\n",
    "- Cosine_Similarity = 0.894 means that documents A and B, are very similar. \n",
    "- When ***cos($\\theta$)*** is large, then ***$\\theta$(angle)*** is small(30.6°), and the two documents A and B are closed to each other means the similarity of two docs is directly proportional to angle $\\theta$.\n",
    "- The ***cos($\\theta$)***  larger it gets, the more likely that documents A and B are similar, and vice versa."
   ]
  },
  {
   "cell_type": "markdown",
   "metadata": {},
   "source": [
    "##### What is Correlation?\n",
    "Correlation is a bivariate analysis that measures the strength of association between two variables and the direction of the relationship.\n",
    "Correlation varies in between +1 to -1. +1 denotes the perfect degree of association between the two variables, as the correlation coefficient goes toward zero the relationship become weaker.\n",
    "* Four types of Correlations:\n",
    "    * Pearson Correlation\n",
    "    * Kendall rank correlation\n",
    "    * Spearman correlation\n",
    "    * Point-Biserial correlation\n",
    "    \n",
    " Monotonic relationship: ![#monotonic-func](img-doc/monotonic-func.jpg) \n",
    " \n",
    "#### 7- Pearson Correlation distance: \n",
    "The correlation distance quantifies the strength of the ***linear, monotonic relationship*** between two attributes.\n",
    "Pearson's correlation coefficient is the covariance of the two variables divided by the product of their standard deviations.\n",
    "\n",
    "The correlation distance can be calculated by this :\n",
    "$$\n",
    "CorrelationDistance = 1 - CorrelationSimilarity\n",
    "$$\n",
    "\n",
    "$$\n",
    "                        = 1 - \\frac{Covariance(P,Q)}{\\sqrt{Variance(P)}.\\sqrt{Variance(Q)}}\n",
    "$$\n",
    "\n",
    "$$\n",
    "                        = 1 - \\frac{\\sum_{i=1}^{n}(p_{ij} - (\\frac{1}{n}).\\sum_{j=1}^{n}p_{ij}).(q_{ij}-(\\frac{1}{n}).\\sum_{j=1}^{n} q_{ij})}{\\sqrt{\\sum_{i=1}^{n}(p_{ij} - (\\frac{1}{n}).\\sum_{j=1}^{n}p_{ij})^2}.\\sqrt{\\sum_{i=1}^{n}(q_{ij}-(\\frac{1}{n}).\\sum_{j=1}^{n} q_{ij})^2}}\n",
    "$$\n",
    "\n",
    "\n",
    "![#pearson-correlation](img-doc/pearson-correlation.jpg)\n",
    "\n",
    "Let's take a example to understand the computation\n",
    "The red and blue points have respective coordinates P(1.2, 0.6) and Q(3.0, 1.2) shown below:\n",
    "![#pearson-correlation-example](img-doc/pearson-correlation-example.jpg)\n",
    "\n",
    "$\n",
    "\\vec{P} = \\frac{\\sum_{j=1}^{n} P_{ij}}{n} = 1.82\n",
    "$\n",
    "\n",
    "$\n",
    "\\vec{Q} = \\frac{\\sum_{j=1}^{n} Q_{ij}}{n} = 0.72\n",
    "$\n",
    "\n",
    "$\n",
    "CorrelationDistance = 1 - \\frac{Covariance(P,Q)}{\\sqrt{Variance(P)}.\\sqrt{Variance(Q)}}\n",
    "$\n",
    "\n",
    "$\n",
    "                    = 1 - \\frac{\\sum_{i=1}^{n}(p_{ij} - (\\frac{1}{n}).\\sum_{j=1}^{n}p_{ij}).(q_{ij}-(\\frac{1}{n}).\\sum_{j=1}^{n} q_{ij})}{\\sqrt{\\sum_{i=1}^{n}(p_{ij} - (\\frac{1}{n}).\\sum_{j=1}^{n}p_{ij})^2}.\\sqrt{\\sum_{i=1}^{n}(q_{ij}-(\\frac{1}{n}).\\sum_{j=1}^{n} q_{ij})^2}}\n",
    "$\n",
    "\n",
    "$\n",
    "                        = 1- \\frac{(1.2-1.82).(0.6-0.75)+(3.0-1.82).(1.2-0.75)}{\\sqrt{(1.2-1.82)^{2}+(3.0-1.82)^{2}}.\\sqrt{(0.6-0.75)^{2}+(1.2-0.75)^{2}}}\n",
    "                        = 0.26\n",
    "$\n",
    "\n",
    "Practical use: If we want to measure that how two stocks are related to each other in stock market, ***pearson correlation*** is used to measure the degree of relationship between the two.  \n",
    "\n",
    "#### 8- Spearman correlation distance:\n",
    "Spearman correlation is used when both variables are rank-ordered. This is useful in both categorical and numerical attributes.\n",
    " \n",
    "Formula for Spearman correlation is:\n",
    "$$\n",
    "\\Large\\rho = 1- \\frac{6\\sum_{i=1}^{n}(r(P_{i})-r(Q_{i}))^{2}}{n(n^{2}-1)} \n",
    "$$\n",
    " \n",
    "$$ where, r(P_{i}) = rank of P_{i} $$\n",
    "$$ r(Q_{i}) = rank of Q_{i} $$\n",
    "$$ n = number of pairs $$\n",
    "\n",
    "\n",
    "#### 9-  Mahalanobis distance:\n",
    "This metric often used in multivariate statistical testing where euclidean distance fails to give the real distance between observations. This metric measures the distance between a data point from a distribution.<br>\n",
    "This metric is very useful in application like multivariate anomaly detection, classification on highly imbalanced datasets and one-class classification.\n",
    "\n",
    "Let's understand what wrong with using euclidean distance for multivariate data.<br>\n",
    "* Euclidean distance for two point P(x1, y1) and Q(x2,y2):  $ d(p,q) = \\sqrt{(x_{1} - y_{1})^{2}+(x_{2} - y_{2})^2}$\n",
    "* For Multi data point:  $ d(p,q) = \\sqrt{(x_{1} - y_{1})^{2}+(x_{2} - y_{2})^2 .. (x_{n} - y_{n})^2}$\n",
    "Euclidean distance will work fine as long as the dimeansions are equally weighted and are independent of each other.\n",
    "Consider this below table data:\n",
    "\n",
    "| House(sq.metre) | Price(Rs. Thousand) || House(sqr.feet) | Price(Rs. Million) |\n",
    "| --------------- | ------------------- || --------------- | ------------------ |\n",
    "|  2500000        |   126000            ||    2500         |    126             |\n",
    "|  1205000        |   101000            ||    1205         |    101             |\n",
    "|  2100000        |   116000            ||    2100         |    116             |\n",
    "|  1500000        |   109000            ||    1500         |    109             |\n",
    "\n",
    "Here the house and price are same objects, only the unit of variables change.\n",
    "* Since both table represents the same objects, the distance between any two rows(point P and point Q) should be the same. But euclidean distance give the different value even though the distances are techniqually the same.\n",
    "This can technically overcome by ***scaling*** the variables.\n",
    "But there is an another issue, see the below data distribution\n",
    "![#mahalanobis-distance](img-doc/mahalanobis-distance.jpg)\n",
    "* Here the two points are equally distance(Euclidean) from the center.\n",
    "* But if we see the right side of plot, only one point of them is actually close to the cluster even though technically the euclidean distance between the two points are equal.\n",
    "* This is beacuse the euclidean distance tells the distance between the two points, it doesn't consider the rest other data points. So this metric cannot be use to compute how close a point actually is to a distribution of points. Here we need a metric that can tell that how far a point from given a distribution and that is ***mahalanobis-distance*** metric.\n",
    "\n",
    "***Formula to compute Mahalanobis distance:*** $ D^{2} = (x-m)^{t} . C^{-1}.(x-m)$\n",
    "\n",
    "where,\n",
    "$D$ - Mahalanobis distance                                                                                                     \n",
    "$x$ - vector of observation(row in a dataset)                                                                               \n",
    "$m$ - vector of mean values of independent variables (mean of each column),                                               \n",
    "$C^{-1}$ - inverse covariance matrix of independent variables.                                                                 \n",
    "$d(P,Q) = \\sqrt{(P-Q)^{T}.C^{-1}.(P-Q)}$\n",
    " \n",
    "#### 10- Standardized Euclidean distance:\n",
    "$$\n",
    "Z = \\frac{x-\\mu}{\\sigma}\n",
    "$$\n",
    "$$\n",
    "d_{P}{Q} = \\sqrt{\\sum_{i=1}^{n}(\\frac{p_{i}-q_{i}}{\\sigma_{i}})^{2}}\n",
    "$$\n",
    " \n",
    "#### 11- Chi-Square distance:\n",
    "This metric measures the similarity between two feature matrices. It's commonly used in computer vision while doing texture analysis in order to find the similarities between normalized histogram.\n",
    "Also used in face recognition, where in predicition step of new face, the model computes the histogram from the newly captured image, and compared with the saved histograms and then tries to find the best match for it. The comparision is made by using ***Chi-square distance*** metric.\n",
    "$$\n",
    "d(P,Q) = \\sum_{i=1}^{n}\\frac{(P_{i}-Q_{i})^2}{P_{i}+Q_{i}}\n",
    "$$\n",
    " \n",
    "#### 12- Jensen-Shannon distance:\n",
    "This metric computes the distance between two probability distributions.\n",
    "Formula to find the distance:\n",
    "$$\n",
    "J(P,Q) = \\frac{1}{2} (D(P || R) + (Q || R))\n",
    "$$\n",
    "$$\n",
    "where,  R = \\frac{P+Q}{2}  \\\\\n",
    "$$\n",
    "R is the mid point between P and Q. \n",
    "#### 13- Levenshtein distance:\n",
    "This metric measures the similarity between two strings. This is equal to the minimum number of operations required to transform a given string into another string. There are 3 types of operation:\n",
    "* Substitution.\n",
    "* Insertion\n",
    "* Deletion\n",
    " \n",
    "#### 14- Hamming distance:\n",
    "The hamming distance is equal to the number of digits where two codewords of the same length differ. This metric mostly used in binary messages computation which is equal to the number of different bits between two binary messages.\n",
    "Hamming distance between two messages can be calculated using: \n",
    "$$\n",
    "H(P,Q) = \\sum_{i=1}^{n} |p_{i}-q_{i}|\n",
    "$$\n",
    "#### 15- Jaccard distance:\n",
    "This metric used to measure the similarity between two sets of data.\n",
    "$$\n",
    "D(P,Q) = 1 - J(P,Q)\n",
    "$$\n",
    "$$\n",
    "= 1- \\frac{|P\\cap Q|}{|P\\cup Q|}\n",
    "$$\n",
    "$$\n",
    "= \\frac{|P\\cup Q|-|P\\cap Q|}{|P\\cup Q|}\n",
    "$$\n",
    " \n",
    "#### 16- Sorensen distance:\n",
    "The Sorensen–Dice distance is a statistical metric used to measure the similarity between sets of data and calculated by this formula.\n",
    "$$\n",
    "D(P,Q) = \\frac{2.|P\\cap Q|}{|P|+|Q|}\n",
    "$$"
   ]
  },
  {
   "cell_type": "markdown",
   "metadata": {},
   "source": [
    "## - Run Clustering algorithms"
   ]
  },
  {
   "cell_type": "markdown",
   "metadata": {},
   "source": [
    "### Determining Optimal Clusters\n",
    "These are the 3 most popular methods for determining the optimal clusters:\n",
    "- 1- `Elbow method`\n",
    "- 2- `Silhouette method`\n",
    "- 3- `Gap statistic`\n",
    "\n",
    "### 1- Elbow Method:\n",
    "In clustering analysis, the elbow method is a heuristic used in determining the number of clusters in a data set."
   ]
  },
  {
   "cell_type": "code",
   "execution_count": 1,
   "metadata": {},
   "outputs": [
    {
     "data": {
      "image/png": "[encoded data removed]",
      "text/plain": [
       "<Figure size 432x288 with 1 Axes>"
      ]
     },
     "metadata": {
      "needs_background": "light"
     },
     "output_type": "display_data"
    },
    {
     "data": {
      "image/png": "[encoded data removed]",
      "text/plain": [
       "<Figure size 432x288 with 1 Axes>"
      ]
     },
     "metadata": {
      "needs_background": "light"
     },
     "output_type": "display_data"
    },
    {
     "name": "stdout",
     "output_type": "stream",
     "text": [
      "Inertia(sse) iterations\n",
      "1 : 3449.4972295055236\n",
      "2 : 1381.842463856216\n",
      "3 : 416.35580471288165\n",
      "4 : 205.12195482575788\n",
      "5 : 178.74135775368384\n",
      "6 : 155.1935426012094\n",
      "7 : 137.83527040014877\n",
      "8 : 117.48012903314333\n",
      "9 : 106.03545152980706\n",
      "10 : 90.0567713852881\n"
     ]
    }
   ],
   "source": [
    "import matplotlib.pyplot as plt\n",
    "from matplotlib import style\n",
    "from sklearn.cluster import KMeans\n",
    "from sklearn.datasets import make_blobs\n",
    "import numpy as np\n",
    "from scipy.spatial.distance import cdist\n",
    "\n",
    "# DEFINING DATA-SETS\n",
    "# make_blobs() is used to generate sample points\n",
    "X, Y = make_blobs(n_samples = 100, centers = 4, cluster_std = 1, n_features = 2)\n",
    "plt.scatter(X[:, 0], X[:, 1], s = 30, color ='b')\n",
    "\n",
    "# label the axes\n",
    "plt.xlabel('X')\n",
    "plt.ylabel('Y')\n",
    "\n",
    "plt.show()\n",
    "plt.clf() # clear the figure\n",
    "\n",
    "# COMPUTING K USING ELBOW-CURVE\n",
    "sse =[]\n",
    "inertia_val={} # for analysis purpose\n",
    "for k in range(1, 11):\n",
    "    km = KMeans(n_clusters = k, max_iter = 500)\n",
    "    km.fit(X)\n",
    "    # calculates squared error for the clustered points\n",
    "    sse.append(km.inertia_)\n",
    "    inertia_val[k] = km.inertia_\n",
    "    \n",
    "# plot k against sse \n",
    "plt.plot(range(1, 11), sse, '-o')\n",
    "plt.xlabel(\"Value of K\")\n",
    "plt.ylabel(\"Sqaured Error (SSE)\")\n",
    "plt.show() # clear the plot\n",
    "\n",
    "print(\"Inertia(sse) iterations\")\n",
    "for key, val in inertia_val.items():\n",
    "    print(f'{key} : {val}')"
   ]
  },
  {
   "cell_type": "markdown",
   "metadata": {},
   "source": [
    "Here we use ***Inertia***(which is sum of squared distances of samples to their closest cluster center) to determine the optimal cluster number. So, from the elbow curve we can determine that in this case the best number of cluster is 4. "
   ]
  },
  {
   "cell_type": "code",
   "execution_count": 2,
   "metadata": {},
   "outputs": [
    {
     "data": {
      "image/png": "[encoded data removed]",
      "text/plain": [
       "<Figure size 432x288 with 1 Axes>"
      ]
     },
     "metadata": {
      "needs_background": "light"
     },
     "output_type": "display_data"
    },
    {
     "name": "stdout",
     "output_type": "stream",
     "text": [
      "DISTORTIONS(sse) iterations\n",
      "1 : 5.137981181372651\n",
      "2 : 3.581478695117366\n",
      "3 : 1.7938425900482502\n",
      "4 : 1.2755601875482014\n",
      "5 : 1.1804636045981354\n",
      "6 : 1.0925405000692507\n",
      "7 : 1.0430673113312903\n",
      "8 : 0.9756572181234756\n",
      "9 : 0.9106860068931755\n",
      "10 : 0.8526871036359506\n"
     ]
    }
   ],
   "source": [
    "# COMPUTING K USING ELBOW-CURVE\n",
    "distortions_val={} # for analysis purpose\n",
    "sse_distortions=[]\n",
    "for k in range(1, 11):\n",
    "    km = KMeans(n_clusters = k, max_iter = 500)\n",
    "    km.fit(X)\n",
    "    # calculates squared error for the clustered points\n",
    "    sse_distortions.append(sum(np.min(cdist(X, km.cluster_centers_,\n",
    "                                        'euclidean'), axis=1)) / X.shape[0])\n",
    "    distortions_val[k]=sum(np.min(cdist(X, km.cluster_centers_,\n",
    "                                        'euclidean'), axis=1)) / X.shape[0]\n",
    "\n",
    "# plot k against sse_distortions \n",
    "plt.plot(range(1, 11), sse_distortions, '-o')\n",
    "plt.xlabel(\"Value of K\")\n",
    "plt.ylabel(\"Sqaured Error (SSE_DISTORTIONS)\")\n",
    "plt.show() # clear the plot\n",
    "\n",
    "print(\"DISTORTIONS(sse) iterations\")\n",
    "for key, val in distortions_val.items():\n",
    "    print(f'{key} : {val}')"
   ]
  },
  {
   "cell_type": "markdown",
   "metadata": {},
   "source": [
    "Here we use Distortions(which is average of squared distances from the cluster centers of their respective cluster) to determine the optimal cluster number. So, from the elbow curve we can determine that in this case the best number of cluster is 4.              \n",
    "***NOTE:*** I have been seen ***Inertia*** is the preferable metrics to compute optimal cluster number."
   ]
  },
  {
   "cell_type": "markdown",
   "metadata": {},
   "source": [
    "### 2- Silhouette method\n",
    "This method can be used to determine the degree of separation between clusters.\n",
    "Here is the equation for silhouette:\n",
    "$$\n",
    "  S_{i} = \\frac{b_{i} - a_{i}}{max(a_{i}, b_{i})} \\\\\n",
    "$$\n",
    "\n",
    "where,                                                                                      \n",
    "   $S_{i}$ - is the silhouette coefficient of the data point i.                                                              \n",
    "   $a_{i}$ - is the average distance between i and all the other data points in the cluster to which i belongs.                \n",
    "   $b_{i}$ - is the average distance from i to all the clusters to which i doesn't belong.\n",
    "\n",
    "\n",
    "The value of silhoutte coefficient lies in between [-1, 1].                                                                  \n",
    "* A score of 1 denotes the best meaning that the data point i is very compact within the cluster to which it belongs and far away from the other clusters.                                                                  \n",
    "* The worst value is -1.                                                                                      \n",
    "* Values near 0 denote overlapping clusters.                                                       "
   ]
  },
  {
   "cell_type": "code",
   "execution_count": 1,
   "metadata": {},
   "outputs": [
    {
     "data": {
      "image/png": "[encoded data removed]",
      "text/plain": [
       "<Figure size 432x288 with 1 Axes>"
      ]
     },
     "metadata": {
      "needs_background": "light"
     },
     "output_type": "display_data"
    },
    {
     "data": {
      "image/png": "[encoded data removed]",
      "text/plain": [
       "<Figure size 432x288 with 1 Axes>"
      ]
     },
     "metadata": {
      "needs_background": "light"
     },
     "output_type": "display_data"
    }
   ],
   "source": [
    "import matplotlib.pyplot as plt\n",
    "from matplotlib import style\n",
    "from sklearn.cluster import KMeans\n",
    "from sklearn.datasets import make_blobs\n",
    "from sklearn.metrics import silhouette_score\n",
    "\n",
    "# DEFINING DATA-SETS\n",
    "# make_blobs() is used to generate sample points\n",
    "X1, Y1 = make_blobs(n_samples = 100, centers = 4, cluster_std = 1, n_features = 2)\n",
    "plt.clf()\n",
    "plt.scatter(X1[:, 0], X1[:, 1], s = 30, color ='b')\n",
    "\n",
    "# label the axes\n",
    "plt.xlabel('X')\n",
    "plt.ylabel('Y')\n",
    "\n",
    "plt.show()\n",
    "plt.clf() \n",
    "\n",
    "range_n_clusters = [2, 3, 4, 5, 6, 7, 8]\n",
    "silhouette_avg = []\n",
    "for num_clusters in range_n_clusters:\n",
    "    km = KMeans(n_clusters = num_clusters, max_iter = 500)\n",
    "    km.fit(X1)\n",
    "    cluster_labels = km.labels_\n",
    " \n",
    "    # silhouette score\n",
    "    silhouette_avg.append(silhouette_score(X1, cluster_labels))\n",
    "    \n",
    "plt.plot(range_n_clusters,silhouette_avg,'bx-')\n",
    "plt.xlabel('Values of K') \n",
    "plt.ylabel('Silhouette score') \n",
    "plt.title('Silhouette analysis For Optimal k')\n",
    "plt.show()"
   ]
  },
  {
   "cell_type": "markdown",
   "metadata": {},
   "source": [
    "Here we can see silhouette score is maximized at k = 4. So, we will take 4 clusters."
   ]
  },
  {
   "cell_type": "markdown",
   "metadata": {},
   "source": [
    "### 3- Gap statistic\n",
    "The gap statistic compares the total intracluster variation for the different value of k(number of clusters) with their expected values under null reference distribution of the data; means it measures the variation in between observed data and random data with a random uniform variation. A large gap statistic means the clustering structure is far away from the random uniform distribution of points. \n",
    "Equation for gap statistic:\n",
    "$$\n",
    "Gap_{n}(k) = E_{n}^*log(W_{k}) - log(W_{k})\n",
    "$$\n",
    "\n",
    "where,                                                    \n",
    "$E_{n}^*$ - denotes the expection under a sample size n from the refrerence distribution.                                \n",
    "$W_{k}$ - Observed value\n",
    "\n",
    "***NOTE:*** Even if gap statistics is a good approach to find a suitable k(number of clusters), still it's not best."
   ]
  },
  {
   "cell_type": "markdown",
   "metadata": {},
   "source": [
    "A list of 10 of the more popular algorithms is as follows:\n",
    "\n",
    "    K-Means\n",
    "    Mini-Batch K-Means\n",
    "    Affinity Propagation\n",
    "    Agglomerative Clustering\n",
    "    BIRCH\n",
    "    DBSCAN\n",
    "    Mean Shift\n",
    "    OPTICS\n",
    "    Spectral Clustering\n",
    "    Mixture of Gaussians\n"
   ]
  },
  {
   "cell_type": "markdown",
   "metadata": {},
   "source": [
    "We will discuss these above mentioned 10 clustering algorithms in next article."
   ]
  },
  {
   "cell_type": "markdown",
   "metadata": {},
   "source": [
    "***The pupose of this article is to give a basic intution of clustering, so that in future whenever you see any ml-problems, your mind should able to start think the best approach and while solving the problem you can also explore more in depth. This is just an applied ML-knowledge sharing.***"
   ]
  }
 ],
 "metadata": {
  "kernelspec": {
   "display_name": "Python 3",
   "language": "python",
   "name": "python3"
  },
  "language_info": {
   "codemirror_mode": {
    "name": "ipython",
    "version": 3
   },
   "file_extension": ".py",
   "mimetype": "text/x-python",
   "name": "python",
   "nbconvert_exporter": "python",
   "pygments_lexer": "ipython3",
   "version": "3.7.6"
  }
 },
 "nbformat": 4,
 "nbformat_minor": 4
}
