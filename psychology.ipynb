{
 "cells": [
  {
   "cell_type": "markdown",
   "metadata": {},
   "source": [
    "## Psychology\n",
    "(When I look at the world I am pessimistic, but when I look at people I am optimistic)"
   ]
  },
  {
   "cell_type": "markdown",
   "metadata": {},
   "source": [
    "### What is Psychology?\n",
    "**Psychology** is the study of behaviour and the mind, or mental processes. It explores both *internal cognition* and *emotions* as well as outward, observable behaviours.\n",
    "Psychologists are actively involved in studying and understanding the mental processes, brain functions and behaviours of living things.\n",
    "\n",
    "\n",
    "**Psychology** word derived from the greek word \"psyche\", for spirit, soul or mind and the latter part derived from \"logos\" which refer to study or research.\n",
    "\n",
    "\n",
    "***\n",
    "- **Wilhelm Wundt** was the one who opened the first experimental psychology lab in Germany in 1879, which was instrumental in psychology becoming its own scientific discipline.\n",
    "- As a science, psychology relies on research and experimental testing to understand the causes behind what humans do, feel, think, and say, as well as to predict human behaviour.\n",
    "- A wide list of topics are encompassed in the study of psychology including the biological foundations of behavior, neurotransmitters and the brain, human development and diversity, emotions, cognition, intelligence, theories of learning and behaviors, and personality. \n",
    "- It also covers the research methods and statistics, and the ethical standards that accompany them. Finally, psychology is concerned with the causes and diagnoses of mental health disorders, as well as the most effective and evidence-based treatment methods.\n",
    "***"
   ]
  },
  {
   "cell_type": "markdown",
   "metadata": {},
   "source": [
    "### History\n",
    "- **Ebers papyrus**, an Egyptian document from 1550 BCE, is the earliest known medical text and includes information on psychological disorders. \n",
    "- Ancient Greek philosophers **Socrates (469–399 BCE), Plato (428–348 BCE), and Aristotle (384–322 BCE)** discussed and debated important ideas about the relationship between the body, brain, and mental processes, and the origins of knowledge. Much of what these philosophers discussed thousands of years ago are still part of debates in psychology today. \n",
    "- Greek physician **Hippocrates (460–375 BCE)** also speculated about the biological origins of temperament.\n",
    "\n",
    "#### Modern Psychology\n",
    "In addition to the ancient philosophers and physicians, there have been many several influential researchers who have contributed to the development of psychology and proposed ideas related to the field.\n",
    "- René Descartes (1596–1650) the philosopher and mathematician who promoted the concept of dualism, the idea that the mind and the body are separate and distinct entities. Significantly, he theorized that the mind and the body communicate with one another. \n",
    "- John Locke (1632–1704) a British philosopher who disagreed with his idea of dualism. He also wrote An Essay Concerning Human Understanding which presented his famous concept of the mind as a tabula rasa, or a \"blank slate\", at birth.\n",
    "\n",
    "During the second half of the 19th century that several key events occurred that led to the birth of modern-day psychology. \n",
    "The following below mentioned chart lists shows some of the most significant moments in the evolution of psychology:\n",
    "\n",
    "- **1848\tPhineas Gage** was injured when a steel pole went through his eye socket and up through the frontal lobe of his brain. Though he survived the incident, his personality changed drastically, a fact that has provided insight into the relationship between the brain and personality.\n",
    "- **1879\tWilhelm Wundt** established the first psychology lab in Leipzig, Germany. This became a place for psychology students from around the world to come and learn. Wundt was also the first person to refer to himself as a psychologist and is often referred to as the father of psychology.\n",
    "- **1883\tG. Stanley Hall**, a student of Wundt, got a psychology lab established at Johns Hopkins University. It was the first such laboratory in the United States. Hall was also the first American to obtain a Ph.D. in psychology.\n",
    "- **1890\tWilliam James** published the first psychology textbook, The Principles of Psychology.\n",
    "- **1890s\tIvan Pavlov** conducted experiments with dogs and discovered classical conditioning.\n",
    "- **1892**\tThe American Psychological Association (APA) was founded by G. Stanley Hall.\n",
    "- **1894\tMargaret Floy Washburn** the first woman to receive a psychology Ph.D. in psychology.\n",
    "- **1899\tSigmund Freud**, the founder of psychoanalysis, published his book The Interpretation of Dreams.\n",
    "- **1903\tMary Whiton Calkins** became the first woman to be president of the APA."
   ]
  },
  {
   "cell_type": "markdown",
   "metadata": {},
   "source": [
    "### Psychological Branches\n",
    "When we see the evolution of psychology, two of the earliest schools of thought were **structuralism** and **functionalism**. \n",
    "\n",
    "- **Edward Titchener**, a student of **Wilhelm Wundt**, introduced the theory of structuralism. Structuralism relied heavily on introspection and self-report, to understand the structure of the mind. \n",
    "- **William James** who founded **Functionalism**, looked more at the overall purpose or function of the mind and behaviors and made use of more objective methods of study than simply introspection.\n",
    "\n",
    "Once psychology was established as a field in its own right, it went through many phases throughout the 1900s, with a variety of approaches rising in popularity and focus. In the starting of the century saw the rise of **Freudian psychology**, or what is now called **psychoanalysis**. In reaction to these early forms of psychology that had little predictive ability with regards to behavior, behaviorism arose. \n",
    "Later in the 1960s humanistic psychology took central stage, and in 1960s the cognitive revolution took place and 1970s, cognitive psychology was born. Today there are several distinct approaches or subfields in psychology and each of them has a unique focus.\n",
    "\n",
    "#### 1- Biological\n",
    "In biological psychology, the emphasis is on the body and brain, and how they impact emotions and behavior. Some important topics of study in biological psychology are **neurotransmitters, the structure of the brain, and the impact of genes and hormones**. It is concerned with the biological basis of behavior and mental disorders.\n",
    "\n",
    "#### 2- Psychodynamic\n",
    "Psychodynamic psychology explores the unconscious forces and conflicts that motivate human behavior. It also emphasizes the importance of childhood traumas and experiences in shaping personality, psychological disorders, and behavior. Psychodynamic psychology includes psychoanalysis, which was founded by **Sigmund Freud (1856–1939)**, but also encompasses related theories and theorists such as **Carl Jung (1875–1961)** and **Erik Erikson (1902–1994)**.\n",
    "\n",
    "#### 3- Cognitive\n",
    "Cognitive psychology emphasizes all mental processes, such as memory, thinking, perception, language, and learning. It also looks at how our thoughts or interpretations of situations can impact responses, emotions, and behaviors. **Jean Piaget (1896–1980)** was an important cognitive theorist and developed the four stages of cognitive development in children. Piaget also posited that earlier experiences influence our problem-solving skills.\n",
    "\n",
    "#### 4- Behavioral\n",
    "Behavioral psychology focuses on observable behaviors and how those behaviors can be modified, changed, or learned. **B.F. Skinner (1904–1990)** proposed the theory of operant conditioning which holds that future behaviors are shaped by the rewards or consequences that follow the behavior. For example, grades after studying or a ticket for speeding are examples of rewards and consequences. Other important theories of learning include classical conditioning, observational learning, and implicit learning. In addition to B. F. Skinner, Ivan Pavlov (1849–1936) and John B. Watson (1878–1958) also made significant contributions to the field of behaviorism."
   ]
  },
  {
   "cell_type": "markdown",
   "metadata": {},
   "source": [
    "The Department of Psychology is organized into 8 areas:\n",
    "\n",
    "#### 1- Behavioral Neuroscience\n",
    "- Factors influencing plasticity of brain and behaviour through development and in adulthood.\n",
    "- Hippocampal biology and function.\n",
    "- Stress.\n",
    "- Neurogenesis and brain plasticity across the life span.\n",
    "- Sex related differences in brain function.\n",
    "- Endocrine and immune regulation of brain and behaviour.\n",
    "- The neurobiology of cognitive control.\n",
    "\n",
    "#### 2- Clinical Psychology\n",
    "- Treatment of mood and personality disorders using cognitive behavioral therapies.\n",
    "- Psychological and behavioral adaptation to chronic health problems.\n",
    "- Effects of exercise on psychological and cognitive functioning.\n",
    "- Neuroplasticity in healthy aging and neurological disorders.\n",
    "- Mindfulness and cognitive functioning in older adults.\n",
    "\n",
    "#### 3- Cognitive Psychology\n",
    "- Experimental, brain imaging, and model-based approaches to perception, memory, decision making, action, and language.\n",
    "- Modeling decision processing in memory, perception, numeracy.\n",
    "- How our visual systems create our stable perception of the world.\n",
    "- Neuroimaging (fMRI) studies examining how we value and choose things.\n",
    "- The creation of biologically plausible network models of human cognition.\n",
    "- How we control our attention in complex tasks.\n",
    "- How the auditory system solves the challenges of understanding spoken language.\n",
    "\n",
    "#### 4- Decision Science\n",
    "- How cognitive, affective, and social processes influence judgment and choice.\n",
    "- How numeracy (numeric ability) affects real-world decisions.\n",
    "- How the brain represents subjective values and beliefs.\n",
    "- The role of attitudes in numeric judgment and choice/\n",
    "- How to improve self-control.\n",
    "- How information is interpreted and integrated in decision making.\n",
    "- Modeling decision making in aging and cognitive decline.\n",
    "\n",
    "#### 5- Developmental Psychology\n",
    "- Learning and developmental change in cognition, behavior, and the brain.\n",
    "- Genetic and environmental influences on brain and behavior.\n",
    "- Development of memory, categorization, and reasoning.\n",
    "- Development of numerical cognition and mathematical thinking.\n",
    "- How children learn language and use it to understand their world.\n",
    "- How children grow beyond the superficial in their social and moral understanding How children grow beyond the superficial in their social and moral understanding.\n",
    "\n",
    "#### 6- Intellectual and Developmental Disabilities\n",
    "- How to improve health and well-being in children and adults with intellectual disabilities, autism spectrum disorders, and other neurodevelopmental disorders.\n",
    "- How to best support family members of people with disabilities.\n",
    "- How to impact the outcome and course of intellectual disability, autism spectrum disorder, and related neurodevelopmental disorders.\n",
    "- How to develop psychological instruments that measure core and associated features of intellectual disability, autism spectrum disorder, and other neurodevelopmental disorders.\n",
    "- How to treat behavior and emotional problems in children and adults who have intellectual disability, autism spectrum disorder, and related neurodevelopmental disorders.\n",
    "\n",
    "#### 7- Quantitative Psychology\n",
    "- Developing, evaluating and applying new quantitative methods for the analysis of psychological data.\n",
    "- The application of statistical models to real world problems.\n",
    "- Bayesean models of human cognition.\n",
    "\n",
    "#### 8- Social Psychology\n",
    "- Automatic and deliberative attitudes: Influences on information processing, judgment, and behavior.\n",
    "- Increasing women’s participation in STEM disciplines.\n",
    "- How motivations in social interactions shape relationships, beliefs, well-being, and health.\n",
    "- What motivates social behavior.\n",
    "- Effects of the immune system and common anti-inflammatory drugs on emotions, decisions, and social behavior.\n",
    "- How similarity in brain activity across people underlies similarity in thoughts, attitudes and beliefs."
   ]
  },
  {
   "cell_type": "markdown",
   "metadata": {},
   "source": [
    "*** \n",
    "The purpose of this article is to give the basic intution of psychology also this knowledge can help in the exploration of desigining an AI system which can understand the human emotions and behaviours.\n",
    "***"
   ]
  }
 ],
 "metadata": {
  "kernelspec": {
   "display_name": "Python 3",
   "language": "python",
   "name": "python3"
  },
  "language_info": {
   "codemirror_mode": {
    "name": "ipython",
    "version": 3
   },
   "file_extension": ".py",
   "mimetype": "text/x-python",
   "name": "python",
   "nbconvert_exporter": "python",
   "pygments_lexer": "ipython3",
   "version": "3.7.6"
  }
 },
 "nbformat": 4,
 "nbformat_minor": 4
}
